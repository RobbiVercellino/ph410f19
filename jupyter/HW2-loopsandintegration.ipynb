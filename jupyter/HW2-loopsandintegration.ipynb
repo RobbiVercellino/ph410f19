{
 "cells": [
  {
   "cell_type": "markdown",
   "metadata": {},
   "source": [
    "# Loops and numerical integration in Python\n",
    "\n",
    "\n",
    "Last week we saw how to make `quiver` plots with `matplotlib` in a Python notebook. Today, we will see how to conduct numerical integration in Python.\n",
    "\n",
    "***HEY YOU! PAY ATTENTION! There are several exercises for you to complete within this notebook. Don't miss 'em.***\n",
    "\n",
    "## Loops"
   ]
  },
  {
   "cell_type": "markdown",
   "metadata": {},
   "source": [
    "To program a numerical integration scheme (or most things), we need to review the concept of a loop. Loops are one of the most common ideas in programming. The basic idea is that instead of entering a command lots of times with slight variations, let the programming language loop over it a certain number of times while making slight changes each time on your behalf. For example, let's use the most common loop: a `for` loop. The idea is that `for` each thing in some list that you specify, Python runs some code for you. This is easier to understand with an example:"
   ]
  },
  {
   "cell_type": "code",
   "execution_count": 5,
   "metadata": {},
   "outputs": [
    {
     "name": "stdout",
     "output_type": "stream",
     "text": [
      "I am a for loop. This is loop number 1.\n",
      "My favorite fruit during this loop is apple.\n",
      "I am a for loop. This is loop number 2.\n",
      "My favorite fruit during this loop is banana.\n",
      "I am a for loop. This is loop number 3.\n",
      "My favorite fruit during this loop is cherry.\n"
     ]
    }
   ],
   "source": [
    "fruits = [\"apple\", \"banana\", \"cherry\"] # A list of fruit words\n",
    "counter=0 #a counter to help understand loops\n",
    "\n",
    "# Now we start a for loop. It must:\n",
    "#    - use the for command to initiate it\n",
    "#    - identify a variable that changes with each iteration (i in this case)\n",
    "#    - identify a list-like variable to loop through (fruits in this case)\n",
    "# Then we indent our code to indicate the code that is getting looped.\n",
    "for i in fruits: # start a for loop\n",
    "    counter=counter+1 # Add 1 to our counter, so we know we started a new loop\n",
    "    print('I am a for loop. This is loop number {}.'.format(counter)) # Print some info\n",
    "    print('My favorite fruit during this loop is {}.'.format(i)) # Use our loop variable\n"
   ]
  },
  {
   "cell_type": "markdown",
   "metadata": {},
   "source": [
    "A very useful function for loops is `range`. It makes a range of numbers that you can loop over. Suppose I want to square the integers from 0 to 5 and print the results. I could do this:"
   ]
  },
  {
   "cell_type": "code",
   "execution_count": 6,
   "metadata": {},
   "outputs": [
    {
     "name": "stdout",
     "output_type": "stream",
     "text": [
      "0\n",
      "1\n",
      "4\n",
      "9\n",
      "16\n",
      "25\n"
     ]
    }
   ],
   "source": [
    "for i in range(0,6): # Loop i over the range 0 through 6.\n",
    "    print(i**2)"
   ]
  },
  {
   "cell_type": "markdown",
   "metadata": {},
   "source": [
    "Notice that my `range` command was `range(0,6)`, not `range(0,5)`. I need to do this because of how Python counts. I am telling it to give me 0 ***up to but not including*** 6.\n",
    "\n",
    "`range` also can change the increment between values (for example, you can count by twos or threes instead of by ones), which is often very handy. Here's a quick example,"
   ]
  },
  {
   "cell_type": "code",
   "execution_count": 7,
   "metadata": {},
   "outputs": [
    {
     "name": "stdout",
     "output_type": "stream",
     "text": [
      "0\n",
      "3\n",
      "6\n",
      "9\n"
     ]
    }
   ],
   "source": [
    "for i in range(0,10,3): # Loop i over the range 0 through 10 in increments of 3.\n",
    "    print(i)"
   ]
  },
  {
   "cell_type": "markdown",
   "metadata": {},
   "source": [
    "#### ***An exercise for you:*** Use the code cell below this one. By using a `for` loop and the `range` command, find a way to print the result of raising each integer to the power of the integer above it, and do so for 0 through 15. For example, the first line printed should give the result of $0^1$, the next should be $1^2$, then $2^3$, and so on, ending with $15^{16}$. Do ***not*** manually type these commands; start a loop and use a single line of code within it. Make sure your code gives the expected results."
   ]
  },
  {
   "cell_type": "code",
   "execution_count": 8,
   "metadata": {},
   "outputs": [],
   "source": [
    "# Your loop code goes here!"
   ]
  },
  {
   "cell_type": "markdown",
   "metadata": {},
   "source": [
    "## Numerical integrating functions of one variable\n",
    "Now we will learn how to approximately determine the integral of a functions of a single variable using the trapezoidal rule and Simpson's rule. You will compare your results to the simplest built-in integrator from the ``scipy.integrate`` library, ``quad``. In this notebook, we have started by walking through the results of a computing numerically the integral of a function with known anti-derivative, but have left developing the Simpson alogorithm to you."
   ]
  },
  {
   "cell_type": "markdown",
   "metadata": {},
   "source": [
    "### Import all the libraries\n",
    "\n",
    "We will start by importing all the libarries and functions that we need. These can be called upon in any cell, but it's often useful to call them up in the first cell, so you know what's available. Also, to avoid conflicts in namespaces (i.e., functions and methods that appear in multiple libraries), we will use the ``as`` method of importing libraries."
   ]
  },
  {
   "cell_type": "code",
   "execution_count": 16,
   "metadata": {},
   "outputs": [],
   "source": [
    "import sympy as sp                 ## Import symbolic python library\n",
    "import numpy as np                 ## Import basic scientific computing library\n",
    "import matplotlib.pyplot as plt    ## Import plotting library\n",
    "from scipy.integrate import quad   ## Import a specific integrator from scipy.intergrate library\n",
    "\n",
    "## Make sure our plots show up inline\n",
    "%matplotlib inline\n",
    "\n",
    "## Add some style to the printing of sympy functions\n",
    "sp.init_printing(use_latex='mathjax')\n",
    "\n",
    "# If equations aren't displaying right in Google Colab, uncommenting\n",
    "# the following lines might fix it:\n",
    "#def custom_latex_printer(exp,**options):\n",
    "#    from google.colab.output._publish import javascript\n",
    "#    url = \"https://cdnjs.cloudflare.com/ajax/libs/mathjax/2.7.3/latest.js?config=default\"\n",
    "#    javascript(url=url)\n",
    "#    return printing.latex(exp,**options) #this command may need to be modified depending on how you import sympy\n",
    "#init_printing(use_latex=\"mathjax\",latex_printer=custom_latex_printer)"
   ]
  },
  {
   "cell_type": "markdown",
   "metadata": {},
   "source": [
    "### An example\n",
    "\n",
    "We will work with a function with a known anti-derivative,\n",
    "\n",
    "$$ g(x) = 10~e^{-x},$$\n",
    "\n",
    "which are planning to integrate from 0 to 10,\n",
    "\n",
    "$$I(0,10) = \\int_0^{10} 10~e^{-x} dx.$$\n",
    "\n",
    "Let's start by plotting this function to get an idea of what we'll be integrating. This bit of code also serves as a good example of making a basic plot in `matplotlib`, a skill which you will need later in this notebook.\n",
    "\n",
    "We want to plot the function $10~e^{-x}$ from $x=0$ to $x=10$. Mathematically, this seems simple: just draw the part of the parabola over the infinite number of points from $x=0$ to $x=5$. But computers can't work in infinities; they break everything up into discrete, separate points. We need to think a little differently to use a computer to make such a plot. We need to make an array of $x$ values, evaluate them with $x^2$ to get the $y$ values, and then put all of those points on the screen. We'll use `numpy` to make an array of $x$ values."
   ]
  },
  {
   "cell_type": "code",
   "execution_count": 20,
   "metadata": {},
   "outputs": [
    {
     "data": {
      "image/png": "[encoded data removed]",
      "text/plain": [
       "<Figure size 720x432 with 1 Axes>"
      ]
     },
     "metadata": {
      "needs_background": "light"
     },
     "output_type": "display_data"
    }
   ],
   "source": [
    "t = np.arange(0,10,0.01) # Create a numpy array over the range of interest to serve as our array of independent variables\n",
    "g = 10*np.exp(-t)\n",
    "\n",
    "fig_example_plot = plt.figure(figsize=(10,6)) # Make figure object\n",
    "\n",
    "axes = fig_example_plot.add_axes([0.1, 0.1, 0.8, 0.8]) # Place axes\n",
    "axes.plot(t, g, label=\"$g(x) = 10e^{-x}$\") \n",
    "axes.legend(loc=1,fontsize=14); # Make legend in upper left corner. Location codes listed at http://matplotlib.org/users/legend_guide.html#legend-location\n",
    "axes.set_xlabel(r\"$x$\",fontsize=18)\n",
    "axes.set_ylabel(r\"$g(x)$\",fontsize=18);"
   ]
  },
  {
   "cell_type": "markdown",
   "metadata": {},
   "source": [
    "Ok, great, we know what the function looks like. I said that this function has a known anti-derivative, letting us check our numerical integration. Let's find that anti-derivative. We could try to figure it out ourselves, or look it up, but we can just have Python find it with the ``sympy`` library. "
   ]
  },
  {
   "cell_type": "code",
   "execution_count": 5,
   "metadata": {},
   "outputs": [
    {
     "data": {
      "text/latex": [
       "$\\displaystyle - 10 e^{- x}$"
      ],
      "text/plain": [
       "     -x\n",
       "-10⋅ℯ  "
      ]
     },
     "execution_count": 5,
     "metadata": {},
     "output_type": "execute_result"
    }
   ],
   "source": [
    "x=sp.Symbol('x') # Tell sympy to treat x as an algebraic symbol, not a normal Python variable\n",
    "sp.integrate(10*sp.exp(-x),x) # do the integral"
   ]
  },
  {
   "cell_type": "markdown",
   "metadata": {},
   "source": [
    "In this case, the function has a known anti-derivative, so numerically finding the integral from 0 to 10 is not necessary. We can simply use the antiderivative to evaluate it at the end points and compute the integral,\n",
    "\n",
    "$$I = -10~e^{-x}$$\n",
    "\n",
    "So that,\n",
    "\n",
    "$$I(0,10) = -10({e^{-10}-1}) \\approx 9.9995460007$$\n",
    "\n",
    "But let's see what happens when we numerically integrate it. We start by defining our function:"
   ]
  },
  {
   "cell_type": "code",
   "execution_count": 6,
   "metadata": {},
   "outputs": [],
   "source": [
    "def g(t):\n",
    "    return 10*np.exp(-t)"
   ]
  },
  {
   "cell_type": "markdown",
   "metadata": {},
   "source": [
    "Now let's use the trapezoidal integration scheme that we implemented in class, this time with ten steps:"
   ]
  },
  {
   "cell_type": "code",
   "execution_count": 8,
   "metadata": {},
   "outputs": [
    {
     "name": "stdout",
     "output_type": "stream",
     "text": [
      "10.819275852028298\n"
     ]
    }
   ],
   "source": [
    "N = 10\n",
    "a = 0\n",
    "b = 10\n",
    "h = (b-a)/N\n",
    "s = 0       # this just ensures we don't add more to it if we run it again!\n",
    "\n",
    "s = 0.5*g(a) + 0.5*g(b)\n",
    "for k in range(1,N):\n",
    "    s += g(a+k*h)\n",
    "    \n",
    "I = s*h\n",
    "print(I)"
   ]
  },
  {
   "cell_type": "markdown",
   "metadata": {},
   "source": [
    "That's, unsurprisingly, pretty bad, but it gets better with more steps:"
   ]
  },
  {
   "cell_type": "code",
   "execution_count": 12,
   "metadata": {},
   "outputs": [
    {
     "name": "stdout",
     "output_type": "stream",
     "text": [
      "9.999629330113484\n"
     ]
    }
   ],
   "source": [
    "N = 1000\n",
    "a = 0\n",
    "b = 10\n",
    "h = (b-a)/N\n",
    "s = 0       # this just ensures we don't add more to it if we run it again!\n",
    "\n",
    "s = 0.5*g(a) + 0.5*g(b)\n",
    "for k in range(1,N):\n",
    "    s += g(a+k*h)\n",
    "    \n",
    "I = s*h\n",
    "print(I)"
   ]
  },
  {
   "cell_type": "markdown",
   "metadata": {},
   "source": [
    "That's only off by 0.0007%. We can keep doing this for a while, but at some point we are running too many iterations for the gain in precision. We will also run into the issue of machine precision, which is error inherent in the storing of floating point numbers in a computer.\n",
    "\n",
    "There are better methods for numerical integration, which are inherently faster (fewer iterations for same or better precision) and/or adaptive to the problem (get you the best answer for your required precision). One of these is Gaussian quadrature, which the `quad` function from `scipy` performs:"
   ]
  },
  {
   "cell_type": "code",
   "execution_count": 13,
   "metadata": {},
   "outputs": [
    {
     "name": "stdout",
     "output_type": "stream",
     "text": [
      "(9.999546000702377, 2.83275284251709e-13)\n"
     ]
    }
   ],
   "source": [
    "I = quad(g, 0, 10)\n",
    "print(I)"
   ]
  },
  {
   "cell_type": "markdown",
   "metadata": {},
   "source": [
    "The first result is the integral result. "
   ]
  },
  {
   "cell_type": "markdown",
   "metadata": {},
   "source": [
    "## A better integration scheme\n",
    "\n",
    "For most problems, we will want to use a better integration scheme than the trapezoidal approached. As I introduced in class, a simple choice is Simpson's rule, which uses a quadratic shape to approximate the function curvature at each integration step, as in the figure below. Notice that we want to think about **pairs** of integration slices, each of which will be fit to a quadratic function.\n",
    "\n",
    "![vector fields](http://www.evantilton.com/ph410f19/images/hw2-simpson.jpg \"vector fields\") \n",
    "\n",
    "Let's figure out how to do this mathematically. Suppose we have three points we want to lie on a quadratic, and they lie at $x=-h, 0, +h$, as in this figure:\n",
    "\n",
    "![vector fields](http://www.evantilton.com/ph410f19/images/hw2-simpsonslice.jpg \"vector fields\") \n",
    "\n",
    "A quadratic function is of the form $Ax^2+Bx+C$, where $A$, $B$, and $C$ are constants, so, by simply plugging in the three $x$ values, it must be that: $$f(-h)=Ah^2-Bh+C ~~~~~~~ f(0)=C ~~~~~~~ f(+h)=Ah^2+Bh+C.$$ These are three equations with three unknown constants, so we can solve the system of equations algebraically. Skipping through the algebra to the result, one can obtain: \n",
    "$$ C=f(0) ~~~~~ A=\\frac{1}{h^2}\\left[ \\frac{1}{2}f(-h)-f(0)+\\frac{1}{2}f(h)\\right] ~~~~~ B=\\frac{1}{2h}\\left[f(h)-f(-h)\\right].$$\n",
    "Now we can analytically integrate this result to obtain the area under this quadratic approximation: $$\\int_{-h}^h\\left( Ax^2+Bx+c\\right) dx=\\frac{2}{3}Ah^3+2Ch=\\frac{1}{3}h\\left[ f(-h)+4f(0)+f(h)\\right]$$\n",
    "This result is Simpson's rule. Notice it depends on **only** the function at 3 equally-spaced points, so it is easy to evaluate computationally.\n",
    "\n",
    "If we are doing a numerical integral with $N$ bins numbered as $k=1,2,...,N$, the approximate area of a **pair** of adjacent bins is therefore $${\\rm Area}\\approx\\frac{1}{3}h\\left[ f(-x_k)+4f(x_{k+1})+f(x_{k+2})\\right],$$ and the total integral is the sum of these pairs:\n",
    "$$I(a,b)\\approx\\frac{1}{3}h\\left[ f(a)+4f(a+h)+f(a+2h)\\right]+\\frac{1}{3}h\\left[ f(a+2h)+4f(a+3h)+f(a+4h)\\right]+...+\\frac{1}{3}h\\left[ f(a+(N-2)h)+4f(a+(N-1)h)+f(b)\\right].$$\n",
    "We can clearn this up by collecting like terms:\n",
    "$$I(a,b)\\approx\\frac{1}{3}h\\left[ f(a)+4f(a+h)+2f(a+2h)+4f(a+3h)+...+f(b)\\right].$$\n",
    "Notice something **important** here. All of the function terms that are calculated at a location depending on an odd number of $h$s are multiplied by 4, and all of the even ones are multplied by 2. Therefore,\n",
    "$$I(a,b)\\approx\\frac{1}{3}h\\left[ f(a)+f(b)+4\\sum^{N-1}_{k_{\\rm odd}}f(a+kh)+2\\sum^{N-2}_{k_{\\rm even}}f(a+kh)\\right].$$\n",
    "\n",
    "This is now in a form that is easy to implement in Python. However, the loop (or loops?) have that odd alternating behaviour. There are a variety of ways of dealing with that, but it is sometimes helpful to remember a property of the `range()` function: it can take steps of sizes that are different from 1, like so:"
   ]
  },
  {
   "cell_type": "code",
   "execution_count": 15,
   "metadata": {},
   "outputs": [
    {
     "name": "stdout",
     "output_type": "stream",
     "text": [
      "13579\n",
      "2468"
     ]
    }
   ],
   "source": [
    "N=10\n",
    "for k in range(1,N,2): # starting at 1, take two steps at a time until N\n",
    "    print(k, end = '')\n",
    "print()\n",
    "for k in range(2,N,2): # starting at 2, take two steps at a time until N\n",
    "    print(k, end = '')"
   ]
  },
  {
   "cell_type": "markdown",
   "metadata": {},
   "source": [
    "\n",
    "## An exercise: Numerically integrating functions without simple antiderivatives \n",
    "\n",
    "Up till now, most of your experience with integration has likely been integrating continuous functions that have anti-derivatives. In the real world, many continuous functions do not have anti-derivatives, including raw, discrete data (e.g., using individual laboratory measurements of position to determine potential energy). Let's therefore turn our attention to functions for which there are no simple anti-derivatives.\n",
    "\n",
    "Consider a line of charge that lives on the x-axis. It exists from $x=0$ to $x=3$, and distribution of that charge is given by,\n",
    "\n",
    "$$\\lambda(x) = 2e^{-x^2}.$$\n",
    "\n",
    "In this problem, you will determine the total charge one this line by performing the integral,\n",
    "\n",
    "$$Q = \\int_0^3 2e^{-x^2} dx.$$\n",
    "\n",
    "Complete the exercises below, either within this notebook or in another Python file or files. **You may not already know how to do these things. My explanations in this notebook will get you most of the way there, but you may find yourself stuck. You need to realize that much of learning to implement problems in code is the seeking out of the necessary information and tools. You should begin to get used to Googling for Python documentation, Wikipedia descriptions of algorithms, and helpful questions on StackExchange. Your assignment is to figure out how to do these things.**\n",
    "\n",
    "1. Plot the distribution of charge. Does it look familiar to you in some way? Maybe you've seen it in other classes?\n",
    "2. Use ``sympy`` to compute the integral of the function (i.e., the total charge). What does it return? Discuss the function. Is it analytic?\n",
    "3. Apply the trapezoidal rule to compute the integral of this function. Use 10 equal width steps. To receive full credit, you must write the code to do this and not use built-in integration functions of ``scipy``.\n",
    "4. Apply Simpson's rule to compute the integral of this function. Again, use 10 equal with steps. Compare the result to part 3. To receive full credit, you must write the code to do this and not use built-in integration functions of ``scipy``.\n",
    "5. Compute both integrals with increasingly more steps (i.e., from 10 to 100) and plot the results. That is, produce a figure to compare the results of your integration schemes. Your plot(s) should have number of steps on the horizontal axis and the value of the integral on the vertical axis.\n",
    "6. Use the ``scipy.integrate`` built-in quadrature function, ``quad.`` Use it to compute the same integral and compare its result to what your code produced. What are the two variables that ``quad`` gives you by default?\n",
    "7. Explain in plain English how the trapezoidal rule and Simpson's rule are different. How do they compute the integrals? Explain how the [Gaussian quadrature](https://en.wikipedia.org/wiki/Gaussian_quadrature) method, which is used in ``quad`` from the ``scipy.integrate`` library, is different from both of them."
   ]
  }
 ],
 "metadata": {
  "kernelspec": {
   "display_name": "Python 3",
   "language": "python",
   "name": "python3"
  },
  "language_info": {
   "codemirror_mode": {
    "name": "ipython",
    "version": 3
   },
   "file_extension": ".py",
   "mimetype": "text/x-python",
   "name": "python",
   "nbconvert_exporter": "python",
   "pygments_lexer": "ipython3",
   "version": "3.7.3"
  }
 },
 "nbformat": 4,
 "nbformat_minor": 1
}
